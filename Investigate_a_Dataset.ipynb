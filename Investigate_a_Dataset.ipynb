{
 "cells": [
  {
   "cell_type": "markdown",
   "metadata": {},
   "source": [
    "\n",
    "# Project: No Show Appointment data Analysis\n",
    "\n",
    "## Table of Contents\n",
    "<ul>\n",
    "<li><a href=\"#intro\">Introduction</a></li>\n",
    "<li><a href=\"#wrangling\">Data Wrangling</a></li>\n",
    "<li><a href=\"#eda\">Exploratory Data Analysis</a></li>\n",
    "<li><a href=\"#conclusions\">Conclusions</a></li>\n",
    "</ul>"
   ]
  },
  {
   "cell_type": "markdown",
   "metadata": {},
   "source": [
    "<a id='intro'></a>\n",
    "## Introduction\n",
    "\n",
    "###  Dataset Description \n",
    ">This dataset collects information from 100k medical appointments in Brazil and is focused on the question of whether or not patients show up for their appointment. A number of characteristics about the patient are included in each row.<br>\n",
    "#### these are what column means\n",
    ">***PatientId***     \n",
    "***AppointmentID***  \n",
    "***Gender***           \n",
    "***ScheduledDay***   tells us on what day the patient set up their appointment. <br>  \n",
    "***AppointmentDay*** tells us on what day the patient should show .<br>\n",
    "***Age***              \n",
    "***Neighbourhood******   indicates the location of the hospital.<br>   \n",
    "***Scholarship***      indicates whether or not the patient is enrolled in Brasilian welfare  program Bolsa Família. <br>\n",
    "***Hipertension***   does the patient suffer from  Hipertension?<br>\n",
    "***Diabetes***     does the patient suffer from Diabetes?<br>\n",
    "***Alcoholism***    does the patient have alcoholism ?<br>\n",
    "***Handcap***           \n",
    "***SMS_received***     did the patient receive a sms what remind him of the appointment?<br>\n",
    "***No-show***     did the patients show up to their appointments?<br>\n",
    "\n",
    "\n",
    "\n",
    "### Questions for Analysis\n",
    "<ul>\n",
    "<li><a href=\"#Q3\">Q1 : How is correlation between showing up at the appointment and Gender</a></li>\n",
    "<li><a href=\"#Q4\">Q2 : What are factors that are most impact on showing up?</a></li>\n",
    "<li><a href=\"#Q5\">Q3 : which day is common to not showing up ?</a></li>\n",
    "<li><a href=\"#Q6\">Q4 : Which city have most showing up of patients appointments?</a></li>\n",
    "<li><a href=\"#Q7\">Q5 : How is correlation between Age and showing up?</a></li>\n",
    "</ul>"
   ]
  },
  {
   "cell_type": "code",
   "execution_count": 82,
   "metadata": {},
   "outputs": [
    {
     "name": "stdout",
     "output_type": "stream",
     "text": [
      "Requirement already up-to-date: pandas==0.25.0 in /opt/conda/lib/python3.6/site-packages (0.25.0)\r\n",
      "Requirement already satisfied, skipping upgrade: numpy>=1.13.3 in /opt/conda/lib/python3.6/site-packages (from pandas==0.25.0) (1.19.5)\r\n",
      "Requirement already satisfied, skipping upgrade: python-dateutil>=2.6.1 in /opt/conda/lib/python3.6/site-packages (from pandas==0.25.0) (2.6.1)\r\n",
      "Requirement already satisfied, skipping upgrade: pytz>=2017.2 in /opt/conda/lib/python3.6/site-packages (from pandas==0.25.0) (2017.3)\r\n",
      "Requirement already satisfied, skipping upgrade: six>=1.5 in /opt/conda/lib/python3.6/site-packages (from python-dateutil>=2.6.1->pandas==0.25.0) (1.11.0)\r\n"
     ]
    }
   ],
   "source": [
    "# Upgrading pandas\n",
    "!pip install --upgrade pandas==0.25.0"
   ]
  },
  {
   "cell_type": "code",
   "execution_count": 83,
   "metadata": {},
   "outputs": [],
   "source": [
    "#import the main packeges\n",
    "import numpy as np\n",
    "import pandas as pd\n",
    "import matplotlib.pyplot as plt\n",
    "import seaborn as sns\n",
    "% matplotlib inline\n"
   ]
  },
  {
   "cell_type": "markdown",
   "metadata": {},
   "source": [
    "<a id='wrangling'></a>\n",
    "## Data Wrangling\n",
    "\n",
    "\n",
    "\n",
    "### General Properties\n"
   ]
  },
  {
   "cell_type": "code",
   "execution_count": 84,
   "metadata": {},
   "outputs": [
    {
     "data": {
      "text/html": [
       "<div>\n",
       "<style scoped>\n",
       "    .dataframe tbody tr th:only-of-type {\n",
       "        vertical-align: middle;\n",
       "    }\n",
       "\n",
       "    .dataframe tbody tr th {\n",
       "        vertical-align: top;\n",
       "    }\n",
       "\n",
       "    .dataframe thead th {\n",
       "        text-align: right;\n",
       "    }\n",
       "</style>\n",
       "<table border=\"1\" class=\"dataframe\">\n",
       "  <thead>\n",
       "    <tr style=\"text-align: right;\">\n",
       "      <th></th>\n",
       "      <th>PatientId</th>\n",
       "      <th>AppointmentID</th>\n",
       "      <th>Gender</th>\n",
       "      <th>ScheduledDay</th>\n",
       "      <th>AppointmentDay</th>\n",
       "      <th>Age</th>\n",
       "      <th>Neighbourhood</th>\n",
       "      <th>Scholarship</th>\n",
       "      <th>Hipertension</th>\n",
       "      <th>Diabetes</th>\n",
       "      <th>Alcoholism</th>\n",
       "      <th>Handcap</th>\n",
       "      <th>SMS_received</th>\n",
       "      <th>No-show</th>\n",
       "    </tr>\n",
       "  </thead>\n",
       "  <tbody>\n",
       "    <tr>\n",
       "      <th>0</th>\n",
       "      <td>2.987250e+13</td>\n",
       "      <td>5642903</td>\n",
       "      <td>F</td>\n",
       "      <td>2016-04-29T18:38:08Z</td>\n",
       "      <td>2016-04-29T00:00:00Z</td>\n",
       "      <td>62</td>\n",
       "      <td>JARDIM DA PENHA</td>\n",
       "      <td>0</td>\n",
       "      <td>1</td>\n",
       "      <td>0</td>\n",
       "      <td>0</td>\n",
       "      <td>0</td>\n",
       "      <td>0</td>\n",
       "      <td>No</td>\n",
       "    </tr>\n",
       "    <tr>\n",
       "      <th>1</th>\n",
       "      <td>5.589978e+14</td>\n",
       "      <td>5642503</td>\n",
       "      <td>M</td>\n",
       "      <td>2016-04-29T16:08:27Z</td>\n",
       "      <td>2016-04-29T00:00:00Z</td>\n",
       "      <td>56</td>\n",
       "      <td>JARDIM DA PENHA</td>\n",
       "      <td>0</td>\n",
       "      <td>0</td>\n",
       "      <td>0</td>\n",
       "      <td>0</td>\n",
       "      <td>0</td>\n",
       "      <td>0</td>\n",
       "      <td>No</td>\n",
       "    </tr>\n",
       "    <tr>\n",
       "      <th>2</th>\n",
       "      <td>4.262962e+12</td>\n",
       "      <td>5642549</td>\n",
       "      <td>F</td>\n",
       "      <td>2016-04-29T16:19:04Z</td>\n",
       "      <td>2016-04-29T00:00:00Z</td>\n",
       "      <td>62</td>\n",
       "      <td>MATA DA PRAIA</td>\n",
       "      <td>0</td>\n",
       "      <td>0</td>\n",
       "      <td>0</td>\n",
       "      <td>0</td>\n",
       "      <td>0</td>\n",
       "      <td>0</td>\n",
       "      <td>No</td>\n",
       "    </tr>\n",
       "  </tbody>\n",
       "</table>\n",
       "</div>"
      ],
      "text/plain": [
       "      PatientId  AppointmentID Gender          ScheduledDay  \\\n",
       "0  2.987250e+13        5642903      F  2016-04-29T18:38:08Z   \n",
       "1  5.589978e+14        5642503      M  2016-04-29T16:08:27Z   \n",
       "2  4.262962e+12        5642549      F  2016-04-29T16:19:04Z   \n",
       "\n",
       "         AppointmentDay  Age    Neighbourhood  Scholarship  Hipertension  \\\n",
       "0  2016-04-29T00:00:00Z   62  JARDIM DA PENHA            0             1   \n",
       "1  2016-04-29T00:00:00Z   56  JARDIM DA PENHA            0             0   \n",
       "2  2016-04-29T00:00:00Z   62    MATA DA PRAIA            0             0   \n",
       "\n",
       "   Diabetes  Alcoholism  Handcap  SMS_received No-show  \n",
       "0         0           0        0             0      No  \n",
       "1         0           0        0             0      No  \n",
       "2         0           0        0             0      No  "
      ]
     },
     "execution_count": 84,
     "metadata": {},
     "output_type": "execute_result"
    }
   ],
   "source": [
    "# loadding the data from csv file to pandas dataframe\n",
    "df = pd.read_csv('noshowappointments.csv')\n",
    "# appeare 3 rows \n",
    "#the head of dataframe\n",
    "df.head(3)"
   ]
  },
  {
   "cell_type": "code",
   "execution_count": 85,
   "metadata": {},
   "outputs": [
    {
     "data": {
      "text/plain": [
       "(110527, 14)"
      ]
     },
     "execution_count": 85,
     "metadata": {},
     "output_type": "execute_result"
    }
   ],
   "source": [
    "# get the shape of dataframe\n",
    "df.shape"
   ]
  },
  {
   "cell_type": "code",
   "execution_count": 86,
   "metadata": {},
   "outputs": [
    {
     "data": {
      "text/html": [
       "<div>\n",
       "<style scoped>\n",
       "    .dataframe tbody tr th:only-of-type {\n",
       "        vertical-align: middle;\n",
       "    }\n",
       "\n",
       "    .dataframe tbody tr th {\n",
       "        vertical-align: top;\n",
       "    }\n",
       "\n",
       "    .dataframe thead th {\n",
       "        text-align: right;\n",
       "    }\n",
       "</style>\n",
       "<table border=\"1\" class=\"dataframe\">\n",
       "  <thead>\n",
       "    <tr style=\"text-align: right;\">\n",
       "      <th></th>\n",
       "      <th>PatientId</th>\n",
       "      <th>AppointmentID</th>\n",
       "      <th>Age</th>\n",
       "      <th>Scholarship</th>\n",
       "      <th>Hipertension</th>\n",
       "      <th>Diabetes</th>\n",
       "      <th>Alcoholism</th>\n",
       "      <th>Handcap</th>\n",
       "      <th>SMS_received</th>\n",
       "    </tr>\n",
       "  </thead>\n",
       "  <tbody>\n",
       "    <tr>\n",
       "      <th>count</th>\n",
       "      <td>1.105270e+05</td>\n",
       "      <td>1.105270e+05</td>\n",
       "      <td>110527.000000</td>\n",
       "      <td>110527.000000</td>\n",
       "      <td>110527.000000</td>\n",
       "      <td>110527.000000</td>\n",
       "      <td>110527.000000</td>\n",
       "      <td>110527.000000</td>\n",
       "      <td>110527.000000</td>\n",
       "    </tr>\n",
       "    <tr>\n",
       "      <th>mean</th>\n",
       "      <td>1.474963e+14</td>\n",
       "      <td>5.675305e+06</td>\n",
       "      <td>37.088874</td>\n",
       "      <td>0.098266</td>\n",
       "      <td>0.197246</td>\n",
       "      <td>0.071865</td>\n",
       "      <td>0.030400</td>\n",
       "      <td>0.022248</td>\n",
       "      <td>0.321026</td>\n",
       "    </tr>\n",
       "    <tr>\n",
       "      <th>std</th>\n",
       "      <td>2.560949e+14</td>\n",
       "      <td>7.129575e+04</td>\n",
       "      <td>23.110205</td>\n",
       "      <td>0.297675</td>\n",
       "      <td>0.397921</td>\n",
       "      <td>0.258265</td>\n",
       "      <td>0.171686</td>\n",
       "      <td>0.161543</td>\n",
       "      <td>0.466873</td>\n",
       "    </tr>\n",
       "    <tr>\n",
       "      <th>min</th>\n",
       "      <td>3.921784e+04</td>\n",
       "      <td>5.030230e+06</td>\n",
       "      <td>-1.000000</td>\n",
       "      <td>0.000000</td>\n",
       "      <td>0.000000</td>\n",
       "      <td>0.000000</td>\n",
       "      <td>0.000000</td>\n",
       "      <td>0.000000</td>\n",
       "      <td>0.000000</td>\n",
       "    </tr>\n",
       "    <tr>\n",
       "      <th>25%</th>\n",
       "      <td>4.172614e+12</td>\n",
       "      <td>5.640286e+06</td>\n",
       "      <td>18.000000</td>\n",
       "      <td>0.000000</td>\n",
       "      <td>0.000000</td>\n",
       "      <td>0.000000</td>\n",
       "      <td>0.000000</td>\n",
       "      <td>0.000000</td>\n",
       "      <td>0.000000</td>\n",
       "    </tr>\n",
       "    <tr>\n",
       "      <th>50%</th>\n",
       "      <td>3.173184e+13</td>\n",
       "      <td>5.680573e+06</td>\n",
       "      <td>37.000000</td>\n",
       "      <td>0.000000</td>\n",
       "      <td>0.000000</td>\n",
       "      <td>0.000000</td>\n",
       "      <td>0.000000</td>\n",
       "      <td>0.000000</td>\n",
       "      <td>0.000000</td>\n",
       "    </tr>\n",
       "    <tr>\n",
       "      <th>75%</th>\n",
       "      <td>9.439172e+13</td>\n",
       "      <td>5.725524e+06</td>\n",
       "      <td>55.000000</td>\n",
       "      <td>0.000000</td>\n",
       "      <td>0.000000</td>\n",
       "      <td>0.000000</td>\n",
       "      <td>0.000000</td>\n",
       "      <td>0.000000</td>\n",
       "      <td>1.000000</td>\n",
       "    </tr>\n",
       "    <tr>\n",
       "      <th>max</th>\n",
       "      <td>9.999816e+14</td>\n",
       "      <td>5.790484e+06</td>\n",
       "      <td>115.000000</td>\n",
       "      <td>1.000000</td>\n",
       "      <td>1.000000</td>\n",
       "      <td>1.000000</td>\n",
       "      <td>1.000000</td>\n",
       "      <td>4.000000</td>\n",
       "      <td>1.000000</td>\n",
       "    </tr>\n",
       "  </tbody>\n",
       "</table>\n",
       "</div>"
      ],
      "text/plain": [
       "          PatientId  AppointmentID            Age    Scholarship  \\\n",
       "count  1.105270e+05   1.105270e+05  110527.000000  110527.000000   \n",
       "mean   1.474963e+14   5.675305e+06      37.088874       0.098266   \n",
       "std    2.560949e+14   7.129575e+04      23.110205       0.297675   \n",
       "min    3.921784e+04   5.030230e+06      -1.000000       0.000000   \n",
       "25%    4.172614e+12   5.640286e+06      18.000000       0.000000   \n",
       "50%    3.173184e+13   5.680573e+06      37.000000       0.000000   \n",
       "75%    9.439172e+13   5.725524e+06      55.000000       0.000000   \n",
       "max    9.999816e+14   5.790484e+06     115.000000       1.000000   \n",
       "\n",
       "        Hipertension       Diabetes     Alcoholism        Handcap  \\\n",
       "count  110527.000000  110527.000000  110527.000000  110527.000000   \n",
       "mean        0.197246       0.071865       0.030400       0.022248   \n",
       "std         0.397921       0.258265       0.171686       0.161543   \n",
       "min         0.000000       0.000000       0.000000       0.000000   \n",
       "25%         0.000000       0.000000       0.000000       0.000000   \n",
       "50%         0.000000       0.000000       0.000000       0.000000   \n",
       "75%         0.000000       0.000000       0.000000       0.000000   \n",
       "max         1.000000       1.000000       1.000000       4.000000   \n",
       "\n",
       "        SMS_received  \n",
       "count  110527.000000  \n",
       "mean        0.321026  \n",
       "std         0.466873  \n",
       "min         0.000000  \n",
       "25%         0.000000  \n",
       "50%         0.000000  \n",
       "75%         1.000000  \n",
       "max         1.000000  "
      ]
     },
     "execution_count": 86,
     "metadata": {},
     "output_type": "execute_result"
    }
   ],
   "source": [
    "# get descriptive stastics from the dataframe\n",
    "df.describe()"
   ]
  },
  {
   "cell_type": "code",
   "execution_count": 87,
   "metadata": {},
   "outputs": [
    {
     "name": "stdout",
     "output_type": "stream",
     "text": [
      "<class 'pandas.core.frame.DataFrame'>\n",
      "RangeIndex: 110527 entries, 0 to 110526\n",
      "Data columns (total 14 columns):\n",
      "PatientId         110527 non-null float64\n",
      "AppointmentID     110527 non-null int64\n",
      "Gender            110527 non-null object\n",
      "ScheduledDay      110527 non-null object\n",
      "AppointmentDay    110527 non-null object\n",
      "Age               110527 non-null int64\n",
      "Neighbourhood     110527 non-null object\n",
      "Scholarship       110527 non-null int64\n",
      "Hipertension      110527 non-null int64\n",
      "Diabetes          110527 non-null int64\n",
      "Alcoholism        110527 non-null int64\n",
      "Handcap           110527 non-null int64\n",
      "SMS_received      110527 non-null int64\n",
      "No-show           110527 non-null object\n",
      "dtypes: float64(1), int64(8), object(5)\n",
      "memory usage: 11.8+ MB\n"
     ]
    }
   ],
   "source": [
    "# get information about data\n",
    "df.info()"
   ]
  },
  {
   "cell_type": "code",
   "execution_count": 88,
   "metadata": {},
   "outputs": [
    {
     "data": {
      "text/plain": [
       "PatientId         0\n",
       "AppointmentID     0\n",
       "Gender            0\n",
       "ScheduledDay      0\n",
       "AppointmentDay    0\n",
       "Age               0\n",
       "Neighbourhood     0\n",
       "Scholarship       0\n",
       "Hipertension      0\n",
       "Diabetes          0\n",
       "Alcoholism        0\n",
       "Handcap           0\n",
       "SMS_received      0\n",
       "No-show           0\n",
       "dtype: int64"
      ]
     },
     "execution_count": 88,
     "metadata": {},
     "output_type": "execute_result"
    }
   ],
   "source": [
    "# get the number of nane values\n",
    "df.isnull().sum()"
   ]
  },
  {
   "cell_type": "code",
   "execution_count": 89,
   "metadata": {},
   "outputs": [
    {
     "data": {
      "text/plain": [
       "0"
      ]
     },
     "execution_count": 89,
     "metadata": {},
     "output_type": "execute_result"
    }
   ],
   "source": [
    "# get the number of duplicated rows\n",
    "df.duplicated().sum()"
   ]
  },
  {
   "cell_type": "code",
   "execution_count": 90,
   "metadata": {},
   "outputs": [
    {
     "data": {
      "text/plain": [
       "PatientId          62299\n",
       "AppointmentID     110527\n",
       "Gender                 2\n",
       "ScheduledDay      103549\n",
       "AppointmentDay        27\n",
       "Age                  104\n",
       "Neighbourhood         81\n",
       "Scholarship            2\n",
       "Hipertension           2\n",
       "Diabetes               2\n",
       "Alcoholism             2\n",
       "Handcap                5\n",
       "SMS_received           2\n",
       "No-show                2\n",
       "dtype: int64"
      ]
     },
     "execution_count": 90,
     "metadata": {},
     "output_type": "execute_result"
    }
   ],
   "source": [
    "# get the number of unique values in each column\n",
    "df.nunique()"
   ]
  },
  {
   "cell_type": "markdown",
   "metadata": {},
   "source": [
    "### Data Cleaning\n"
   ]
  },
  {
   "cell_type": "code",
   "execution_count": 91,
   "metadata": {},
   "outputs": [],
   "source": [
    "# drop columns that we will not use\n",
    "df.drop(['PatientId', 'AppointmentID', 'ScheduledDay'], axis = 1, inplace = True)"
   ]
  },
  {
   "cell_type": "code",
   "execution_count": 92,
   "metadata": {},
   "outputs": [],
   "source": [
    "# drop duplicated rows\n",
    "df.drop_duplicates(inplace = True)"
   ]
  },
  {
   "cell_type": "code",
   "execution_count": 93,
   "metadata": {},
   "outputs": [],
   "source": [
    "# covert data type of column of date to datetime then week day name\n",
    "df['AppointmentDay'] = pd.to_datetime(df['AppointmentDay']).dt.day_name()"
   ]
  },
  {
   "cell_type": "code",
   "execution_count": 94,
   "metadata": {},
   "outputs": [],
   "source": [
    "# convert all of value from booleans columns to remove outliers\n",
    "coln = ['Scholarship', 'Hipertension', 'Diabetes', 'Alcoholism', 'Handcap', 'SMS_received']\n",
    "for c in coln:\n",
    "    df[c] = df[c].astype('bool')\n",
    "    df[c].replace({False: 0, True: 1}, inplace=True)"
   ]
  },
  {
   "cell_type": "code",
   "execution_count": 95,
   "metadata": {},
   "outputs": [
    {
     "data": {
      "text/html": [
       "<div>\n",
       "<style scoped>\n",
       "    .dataframe tbody tr th:only-of-type {\n",
       "        vertical-align: middle;\n",
       "    }\n",
       "\n",
       "    .dataframe tbody tr th {\n",
       "        vertical-align: top;\n",
       "    }\n",
       "\n",
       "    .dataframe thead th {\n",
       "        text-align: right;\n",
       "    }\n",
       "</style>\n",
       "<table border=\"1\" class=\"dataframe\">\n",
       "  <thead>\n",
       "    <tr style=\"text-align: right;\">\n",
       "      <th></th>\n",
       "      <th>Gender</th>\n",
       "      <th>AppointmentDay</th>\n",
       "      <th>Age</th>\n",
       "      <th>Neighbourhood</th>\n",
       "      <th>Scholarship</th>\n",
       "      <th>Hypertension</th>\n",
       "      <th>Diabetes</th>\n",
       "      <th>Alcoholism</th>\n",
       "      <th>Handicap</th>\n",
       "      <th>SMS_received</th>\n",
       "      <th>Show</th>\n",
       "      <th>Show_lo</th>\n",
       "      <th>Gender_lo</th>\n",
       "    </tr>\n",
       "  </thead>\n",
       "  <tbody>\n",
       "    <tr>\n",
       "      <th>0</th>\n",
       "      <td>F</td>\n",
       "      <td>Friday</td>\n",
       "      <td>62</td>\n",
       "      <td>JARDIM DA PENHA</td>\n",
       "      <td>0</td>\n",
       "      <td>1</td>\n",
       "      <td>0</td>\n",
       "      <td>0</td>\n",
       "      <td>0</td>\n",
       "      <td>0</td>\n",
       "      <td>show</td>\n",
       "      <td>1</td>\n",
       "      <td>0</td>\n",
       "    </tr>\n",
       "    <tr>\n",
       "      <th>1</th>\n",
       "      <td>M</td>\n",
       "      <td>Friday</td>\n",
       "      <td>56</td>\n",
       "      <td>JARDIM DA PENHA</td>\n",
       "      <td>0</td>\n",
       "      <td>0</td>\n",
       "      <td>0</td>\n",
       "      <td>0</td>\n",
       "      <td>0</td>\n",
       "      <td>0</td>\n",
       "      <td>show</td>\n",
       "      <td>1</td>\n",
       "      <td>1</td>\n",
       "    </tr>\n",
       "    <tr>\n",
       "      <th>2</th>\n",
       "      <td>F</td>\n",
       "      <td>Friday</td>\n",
       "      <td>62</td>\n",
       "      <td>MATA DA PRAIA</td>\n",
       "      <td>0</td>\n",
       "      <td>0</td>\n",
       "      <td>0</td>\n",
       "      <td>0</td>\n",
       "      <td>0</td>\n",
       "      <td>0</td>\n",
       "      <td>show</td>\n",
       "      <td>1</td>\n",
       "      <td>0</td>\n",
       "    </tr>\n",
       "    <tr>\n",
       "      <th>3</th>\n",
       "      <td>F</td>\n",
       "      <td>Friday</td>\n",
       "      <td>8</td>\n",
       "      <td>PONTAL DE CAMBURI</td>\n",
       "      <td>0</td>\n",
       "      <td>0</td>\n",
       "      <td>0</td>\n",
       "      <td>0</td>\n",
       "      <td>0</td>\n",
       "      <td>0</td>\n",
       "      <td>show</td>\n",
       "      <td>1</td>\n",
       "      <td>0</td>\n",
       "    </tr>\n",
       "    <tr>\n",
       "      <th>4</th>\n",
       "      <td>F</td>\n",
       "      <td>Friday</td>\n",
       "      <td>56</td>\n",
       "      <td>JARDIM DA PENHA</td>\n",
       "      <td>0</td>\n",
       "      <td>1</td>\n",
       "      <td>1</td>\n",
       "      <td>0</td>\n",
       "      <td>0</td>\n",
       "      <td>0</td>\n",
       "      <td>show</td>\n",
       "      <td>1</td>\n",
       "      <td>0</td>\n",
       "    </tr>\n",
       "  </tbody>\n",
       "</table>\n",
       "</div>"
      ],
      "text/plain": [
       "  Gender AppointmentDay  Age      Neighbourhood  Scholarship  Hypertension  \\\n",
       "0      F         Friday   62    JARDIM DA PENHA            0             1   \n",
       "1      M         Friday   56    JARDIM DA PENHA            0             0   \n",
       "2      F         Friday   62      MATA DA PRAIA            0             0   \n",
       "3      F         Friday    8  PONTAL DE CAMBURI            0             0   \n",
       "4      F         Friday   56    JARDIM DA PENHA            0             1   \n",
       "\n",
       "   Diabetes  Alcoholism  Handicap  SMS_received  Show  Show_lo  Gender_lo  \n",
       "0         0           0         0             0  show        1          0  \n",
       "1         0           0         0             0  show        1          1  \n",
       "2         0           0         0             0  show        1          0  \n",
       "3         0           0         0             0  show        1          0  \n",
       "4         1           0         0             0  show        1          0  "
      ]
     },
     "execution_count": 95,
     "metadata": {},
     "output_type": "execute_result"
    }
   ],
   "source": [
    "# replace No-show (column name) to show\n",
    "new_labels = []\n",
    "for col in df.columns:\n",
    "    if 'No-' in col:\n",
    "        new_labels.append(col.replace('No-show','Show'))\n",
    "    elif 'Hipertension' in col:\n",
    "        new_labels.append(col.replace('Hipertension','Hypertension'))\n",
    "    #correct spelling Handcap to Handicap\n",
    "    elif 'Handcap' in col:\n",
    "        new_labels.append(col.replace('Handcap','Handicap'))\n",
    "    else:\n",
    "        new_labels.append(col)\n",
    "df.columns = new_labels\n",
    "# puting show instead of No and no_show instead of Yes \n",
    "df['Show'].replace({'No': 'show', 'Yes': 'no_show'}, inplace=True)\n",
    "# set up new numeric column for Show to calculate pearson correlation\n",
    "df['Show_lo']= df['Show'].replace({'show': 1, 'no_show': 0})\n",
    "# set up new numeric column for Gender to calculate pearson correlation\n",
    "df['Gender_lo']= df['Gender'].replace({'M': 1, 'F': 0})\n",
    "df.head(5)\n"
   ]
  },
  {
   "cell_type": "markdown",
   "metadata": {},
   "source": [
    "##### The summary of data cleaning\n",
    "> <ol>\n",
    "    <li>drop columns that we will not use (PatientId, AppointmentID, ScheduledDay)\n",
    "    <li>drop duplicated rows\n",
    "    <li>covert data type of column of date to datetime then week day name\n",
    "    <li>convert all of value from logical columns (sms recieved)<br> to boolean to remove outliers , then to int.\n",
    "    <li>rename No-show column to Show.\n",
    "    <li>correct spelling Handcap to Handicap\n",
    "    <li>correct spelling Hipertension column to Hypertension\n",
    "    <li>puting show instead of No and no_show instead of Yes .\n",
    "    <li>set up new numeric(int) column for Show to calculate pearson correlation .\n",
    "    <li>set up new numeric(int) column for Gender to calculate pearson correlation\n",
    "\n",
    "     \n",
    "  <ol/>\n"
   ]
  },
  {
   "cell_type": "markdown",
   "metadata": {},
   "source": [
    "<a id='eda'></a>\n",
    "## Exploratory Data Analysisdd"
   ]
  },
  {
   "cell_type": "code",
   "execution_count": 96,
   "metadata": {},
   "outputs": [],
   "source": [
    "# y_show is defined variable as getting showing up\n",
    "# not_show is defined variable as getting not showing up\n",
    "y_show = df.Show == 'show'\n",
    "not_show = df.Show == 'no_show'"
   ]
  },
  {
   "cell_type": "code",
   "execution_count": 97,
   "metadata": {},
   "outputs": [],
   "source": [
    "#query by query method\n",
    "#query no showing up case\n",
    "non_show = df.query('Show == \"no_show\"')\n",
    "#query no showing up case\n",
    "show = df.query('Show == \"show\"')"
   ]
  },
  {
   "cell_type": "markdown",
   "metadata": {},
   "source": [
    "<a id='Q3'></a>\n",
    "### Q1 : How is correlation between showing up at the appointment and Gender?"
   ]
  },
  {
   "cell_type": "code",
   "execution_count": 98,
   "metadata": {},
   "outputs": [
    {
     "data": {
      "text/plain": [
       "Text(0.5,1,'Gender and Show')"
      ]
     },
     "execution_count": 98,
     "metadata": {},
     "output_type": "execute_result"
    },
    {
     "data": {
      "image/png": "[encoded data removed]",
      "text/plain": [
       "<matplotlib.figure.Figure at 0x7f23161fa6d8>"
      ]
     },
     "metadata": {},
     "output_type": "display_data"
    }
   ],
   "source": [
    "\n",
    "df.groupby('Gender')['Show'].value_counts().plot.pie(figsize=(6,6));\n",
    "plt.title('Gender and Show')"
   ]
  },
  {
   "cell_type": "code",
   "execution_count": 99,
   "metadata": {},
   "outputs": [
    {
     "data": {
      "text/plain": [
       "0.9387211581005306"
      ]
     },
     "execution_count": 99,
     "metadata": {},
     "output_type": "execute_result"
    }
   ],
   "source": [
    "#the difference between the ratio of no show to show with females and the ratio of no show to show with males\n",
    "i ='Gender'\n",
    "z1=(non_show.query('{} == \"F\"'.format(i))['{}'.format(i)].count())\n",
    "r1=z1/(show.query('{} == \"F\"'.format(i))['{}'.format(i)].count())\n",
    "# Calculate the ratio between no showing and showing up with not statue met.\n",
    "z2=(non_show.query('{} == \"M\"'.format(i))['{}'.format(i)].count())\n",
    "r2=z2/(show.query('{} == \"M\"'.format(i))['{}'.format(i)].count())\n",
    "# Calculate the strength of correlation between no showing and statue met.\n",
    "(r1-r2)*100"
   ]
  },
  {
   "cell_type": "code",
   "execution_count": 100,
   "metadata": {},
   "outputs": [
    {
     "data": {
      "text/plain": [
       "28.12163170549706"
      ]
     },
     "execution_count": 100,
     "metadata": {},
     "output_type": "execute_result"
    }
   ],
   "source": [
    "r1*100"
   ]
  },
  {
   "cell_type": "code",
   "execution_count": 101,
   "metadata": {},
   "outputs": [
    {
     "data": {
      "text/plain": [
       "27.182910547396528"
      ]
     },
     "execution_count": 101,
     "metadata": {},
     "output_type": "execute_result"
    }
   ],
   "source": [
    "r2*100"
   ]
  },
  {
   "cell_type": "markdown",
   "metadata": {},
   "source": [
    "#####  Gender\n",
    "it does not have a Significant effect on **showing up**<br>\n",
    "**the ratio** of no show to show with **Famales** is **28.12%**<br>\n",
    "**the ratio** of no show to show with **Males** is **27.18%**<br>\n",
    "**the difference between them** is **0.93%**<br>"
   ]
  },
  {
   "cell_type": "markdown",
   "metadata": {},
   "source": [
    "#####  Gender :\n",
    "we can see more that 0.5 of pie for famales <br> but when calculating the ratios showing up<br> and not for males and female , We find that<br> the ratios are very close, and the difference between<br> them is less than one percent\n",
    "So the correletion is <br>weak between showing up and gender. "
   ]
  },
  {
   "cell_type": "markdown",
   "metadata": {},
   "source": [
    "<a id='Q4'></a>\n",
    "###  Q2 : What are factors that are most impact on showing up?\n"
   ]
  },
  {
   "cell_type": "code",
   "execution_count": 102,
   "metadata": {},
   "outputs": [],
   "source": [
    "# defining a function to graph the correlation between show and the factors\n",
    "def graph(prop):\n",
    "    '''function to graph the correlation between show and the factors\n",
    "    ,prop is name of factor'''\n",
    "    colors = ['red', 'yellow']\n",
    "    c = df.groupby('Show')['{}'.format(prop)].value_counts()\n",
    "    c.plot(kind='bar',title='{}'.format(prop), color=colors, alpha=.5);\n",
    "    plt.xlabel('Show and {}'.format(prop),size='14')\n",
    "    plt.ylabel('counts',size='14')\n"
   ]
  },
  {
   "cell_type": "code",
   "execution_count": 103,
   "metadata": {},
   "outputs": [
    {
     "data": {
      "image/png": "[encoded data removed]",
      "text/plain": [
       "<matplotlib.figure.Figure at 0x7f231e9b24e0>"
      ]
     },
     "metadata": {
      "needs_background": "light"
     },
     "output_type": "display_data"
    }
   ],
   "source": [
    "# graph the correlation between show and Handicap factor..\n",
    "graph('Handicap')"
   ]
  },
  {
   "cell_type": "markdown",
   "metadata": {},
   "source": [
    "#####  Handicap\n",
    ".<br>\n",
    "**the ratio** of no show to show without **Handicap** is **27.9%**<br>\n",
    "**the ratio** of no show to show with **Handicap** is **21.58%**<br>\n",
    "**the difference between them** is **-6.35%**<br>\n",
    "**This means that patients ratio whose Handicap is more showing up by 6.35 per percent**"
   ]
  },
  {
   "cell_type": "code",
   "execution_count": 104,
   "metadata": {},
   "outputs": [
    {
     "data": {
      "image/png": "[encoded data removed]",
      "text/plain": [
       "<matplotlib.figure.Figure at 0x7f23161d5940>"
      ]
     },
     "metadata": {
      "needs_background": "light"
     },
     "output_type": "display_data"
    }
   ],
   "source": [
    "# graph the correlation between show and Hypertension factor..\n",
    "graph('Hypertension')"
   ]
  },
  {
   "cell_type": "markdown",
   "metadata": {},
   "source": [
    "#####  Hypertension\n",
    "<br>\n",
    "**the ratio** of no show to show without **Hypertension** is **29.59%**<br>\n",
    "**the ratio** of no show to show with **Hypertension** is **21.6%**<br>\n",
    "**the difference between them** is **-7.96%**<br>\n",
    "**This means that patients ratio whose Hypertension is more showing up by 7.96 per percent**"
   ]
  },
  {
   "cell_type": "code",
   "execution_count": 105,
   "metadata": {},
   "outputs": [
    {
     "data": {
      "image/png": "[encoded data removed]",
      "text/plain": [
       "<matplotlib.figure.Figure at 0x7f231e968fd0>"
      ]
     },
     "metadata": {
      "needs_background": "light"
     },
     "output_type": "display_data"
    }
   ],
   "source": [
    "# graph the correlation between show and Hypertension factor..\n",
    "graph('Scholarship')"
   ]
  },
  {
   "cell_type": "markdown",
   "metadata": {},
   "source": [
    "#####  Scholarship\n",
    "**the ratio** of no show to show without **Scholarship** is **27.3%**<br>\n",
    "**the ratio** of no show to show with **Scholarship** is **32%**<br>\n",
    "**the difference between them** is **4.75%**<br>\n",
    "**This means that patients ratio whose Scholarships is more not showing up by 4.75 per percent**"
   ]
  },
  {
   "cell_type": "markdown",
   "metadata": {},
   "source": [
    "Unexpectedly, those who have health insurance from the state,<br> their commitment to appointments in clinics decreases"
   ]
  },
  {
   "cell_type": "code",
   "execution_count": 106,
   "metadata": {},
   "outputs": [
    {
     "data": {
      "image/png": "[encoded data removed]",
      "text/plain": [
       "<matplotlib.figure.Figure at 0x7f23160d7860>"
      ]
     },
     "metadata": {
      "needs_background": "light"
     },
     "output_type": "display_data"
    }
   ],
   "source": [
    "graph('Diabetes')"
   ]
  },
  {
   "cell_type": "markdown",
   "metadata": {},
   "source": [
    "#####  Diabetes\n",
    "**the ratio** of no show to show without **Diabetes** is **28.2%**<br>\n",
    "**the ratio** of no show to show with **Diabetes** is **22.7%**<br>\n",
    "**the difference between them** is **-5.5%**<br>\n",
    "**This means that patients ratio whose Diabetes is more showing up by 5.5 per percent**"
   ]
  },
  {
   "cell_type": "code",
   "execution_count": 107,
   "metadata": {},
   "outputs": [
    {
     "data": {
      "image/png": "[encoded data removed]",
      "text/plain": [
       "<matplotlib.figure.Figure at 0x7f2316043588>"
      ]
     },
     "metadata": {
      "needs_background": "light"
     },
     "output_type": "display_data"
    }
   ],
   "source": [
    "graph('Alcoholism')"
   ]
  },
  {
   "cell_type": "markdown",
   "metadata": {},
   "source": [
    "#####  Alcoholism\n",
    "it does not have a Significant effect on **showing up**, <br> because the rate of patients who have **Alcoholism**,have heath care less.<br>then they do not have a lot of appointments<br> \n",
    "**the ratio** of no show to show without **Alcoholism** is **27.7%**<br>\n",
    "**the ratio** of no show to show with **Alcoholism** is **28.7%**<br>\n",
    "**the difference between them** is **0.99%**<br>"
   ]
  },
  {
   "cell_type": "code",
   "execution_count": 108,
   "metadata": {},
   "outputs": [
    {
     "data": {
      "image/png": "[encoded data removed]",
      "text/plain": [
       "<matplotlib.figure.Figure at 0x7f231608a668>"
      ]
     },
     "metadata": {
      "needs_background": "light"
     },
     "output_type": "display_data"
    }
   ],
   "source": [
    "graph('SMS_received')"
   ]
  },
  {
   "cell_type": "markdown",
   "metadata": {},
   "source": [
    "#####  SMS_received\n",
    "there is a Significant effect between **showing up and SMS_received**, <br>.<br>\n",
    "**the ratio** of no show to show without **SMS_received** is **22.2**<br>\n",
    "**the ratio** of no show to show with **SMS_received** is **39.9%**<br>\n",
    "**the difference between them** is **17.75%**<br><br>\n",
    "**This means that patients who recieved sms is more not showing up by 17.75%**"
   ]
  },
  {
   "cell_type": "code",
   "execution_count": 109,
   "metadata": {},
   "outputs": [],
   "source": [
    "#ratios between factors and showing up\n",
    "li_r1_factor_met= {}\n",
    "li_r2_no_factor= {}\n",
    "defrence_r1_r2 = {}\n",
    "# the strength of correlation\n",
    "# Calculate the ratio between no showing and showing up with statue met.\n",
    "column = ['Scholarship','Hypertension', 'Diabetes', 'Alcoholism', 'Handicap', 'SMS_received']\n",
    "for i in column:\n",
    "    r1=(non_show.query('{} == 1'.format(i))['{}'.format(i)].count())/(show.query('{} == 1'.format(i))['{}'.format(i)].count())\n",
    "    # Calculate the ratio between no showing and showing up with not statue met.\n",
    "    r2=(non_show.query('{} == 0'.format(i))['{}'.format(i)].count())/(show.query('{} == 0'.format(i))['{}'.format(i)].count())\n",
    "    # Calculate the strength of correlation between no showing and statue met.\n",
    "    defrence_r1_r2['{}'.format(i)] = (r1-r2)*100\n",
    "    li_r1_factor_met['{}'.format(i)]= r1*100\n",
    "    li_r2_no_factor['{}'.format(i)]= r2*100\n"
   ]
  },
  {
   "cell_type": "code",
   "execution_count": 110,
   "metadata": {},
   "outputs": [
    {
     "data": {
      "text/plain": [
       "{'Scholarship': 32.05816847897288,\n",
       " 'Hypertension': 21.629330322657317,\n",
       " 'Diabetes': 22.72210492122787,\n",
       " 'Alcoholism': 28.760476400529335,\n",
       " 'Handicap': 21.582315299592786,\n",
       " 'SMS_received': 39.967519979486305}"
      ]
     },
     "execution_count": 110,
     "metadata": {},
     "output_type": "execute_result"
    }
   ],
   "source": [
    "li_r1_factor_met"
   ]
  },
  {
   "cell_type": "code",
   "execution_count": 111,
   "metadata": {},
   "outputs": [
    {
     "data": {
      "text/plain": [
       "{'Scholarship': 27.3037440517164,\n",
       " 'Hypertension': 29.590491063682112,\n",
       " 'Diabetes': 28.248074726947962,\n",
       " 'Alcoholism': 27.760693705673763,\n",
       " 'Handicap': 27.93786087434699,\n",
       " 'SMS_received': 22.211124167645906}"
      ]
     },
     "execution_count": 111,
     "metadata": {},
     "output_type": "execute_result"
    }
   ],
   "source": [
    "li_r2_no_factor"
   ]
  },
  {
   "cell_type": "code",
   "execution_count": 112,
   "metadata": {},
   "outputs": [
    {
     "data": {
      "text/plain": [
       "{'Scholarship': 4.754424427256482,\n",
       " 'Hypertension': -7.961160741024795,\n",
       " 'Diabetes': -5.525969805720093,\n",
       " 'Alcoholism': 0.9997826948555721,\n",
       " 'Handicap': -6.355545574754201,\n",
       " 'SMS_received': 17.7563958118404}"
      ]
     },
     "execution_count": 112,
     "metadata": {},
     "output_type": "execute_result"
    }
   ],
   "source": [
    "defrence_r1_r2"
   ]
  },
  {
   "cell_type": "code",
   "execution_count": 113,
   "metadata": {},
   "outputs": [
    {
     "data": {
      "text/plain": [
       "{'Scholarship': -0.021098168732383377,\n",
       " 'Hypertension': 0.05030994049196688,\n",
       " 'Diabetes': 0.023011908649390077,\n",
       " 'Alcoholism': -0.0025404793295180396,\n",
       " 'Handicap': 0.014516848627718189,\n",
       " 'SMS_received': -0.11955136511973068,\n",
       " 'Gender_lo': 0.006662500480057284}"
      ]
     },
     "execution_count": 113,
     "metadata": {},
     "output_type": "execute_result"
    }
   ],
   "source": [
    "# calculate pearson correlation\n",
    "# Calculate the ratio between no showing and showing up with statue met.\n",
    "pearson_corr = {}\n",
    "column = ['Scholarship','Hypertension', 'Diabetes', 'Alcoholism', 'Handicap', 'SMS_received','Gender_lo']\n",
    "for i in column:\n",
    "    cor = df['{}'.format(i)].corr(df.Show_lo,method='pearson')  \n",
    "    pearson_corr['{}'.format(i)] = cor\n",
    "pearson_corr"
   ]
  },
  {
   "cell_type": "markdown",
   "metadata": {},
   "source": [
    "each one from pearson correlation between the factor and showing up<br. is not strong ,<br>but SMS_received is the most strong correlation"
   ]
  },
  {
   "cell_type": "markdown",
   "metadata": {},
   "source": [
    "<a id='Q5'></a>\n",
    "### Q3 : which day is common to not showing up of appointments?"
   ]
  },
  {
   "cell_type": "code",
   "execution_count": 114,
   "metadata": {},
   "outputs": [
    {
     "data": {
      "text/plain": [
       "Text(0.5,1,'AppointmentDay and showing up')"
      ]
     },
     "execution_count": 114,
     "metadata": {},
     "output_type": "execute_result"
    },
    {
     "data": {
      "image/png": "[encoded data removed]",
      "text/plain": [
       "<matplotlib.figure.Figure at 0x7f2315f95518>"
      ]
     },
     "metadata": {
      "needs_background": "light"
     },
     "output_type": "display_data"
    }
   ],
   "source": [
    "f1 = df.AppointmentDay[y_show]\n",
    "f2 = df.AppointmentDay[not_show]\n",
    "f1.hist(alpha=0.4, bins=20, label='show',color='blue',figsize=(9,7))\n",
    "f2.hist(alpha=0.5, bins=20, label='no show',color='orange',figsize=(9,7))\n",
    "plt.legend();\n",
    "plt.xlabel('days',size='14')\n",
    "plt.ylabel('counts',size='14')\n",
    "plt.title('AppointmentDay and showing up')"
   ]
  },
  {
   "cell_type": "code",
   "execution_count": 115,
   "metadata": {},
   "outputs": [
    {
     "data": {
      "text/plain": [
       "0    Tuesday\n",
       "dtype: object"
      ]
     },
     "execution_count": 115,
     "metadata": {},
     "output_type": "execute_result"
    }
   ],
   "source": [
    "df.AppointmentDay[df.Show == 'no_show'].mode()"
   ]
  },
  {
   "cell_type": "markdown",
   "metadata": {},
   "source": []
  },
  {
   "cell_type": "markdown",
   "metadata": {},
   "source": [
    "<a id='Q6'></a>\n",
    "### Q4 : Which city have most showing up of patients appointments?"
   ]
  },
  {
   "cell_type": "code",
   "execution_count": 116,
   "metadata": {},
   "outputs": [
    {
     "data": {
      "text/plain": [
       "Text(0.5,1,'Neighbourhood and showing up')"
      ]
     },
     "execution_count": 116,
     "metadata": {},
     "output_type": "execute_result"
    },
    {
     "data": {
      "image/png": "[encoded data removed]",
      "text/plain": [
       "<matplotlib.figure.Figure at 0x7f2315e80400>"
      ]
     },
     "metadata": {
      "needs_background": "light"
     },
     "output_type": "display_data"
    }
   ],
   "source": [
    "f1 = df.Neighbourhood[y_show].value_counts()\n",
    "f2 = df.Neighbourhood[not_show].value_counts()\n",
    "f1.plot(kind='area',figsize=(15,8),label='show',color='blue')\n",
    "f2.plot(kind='area',figsize=(15,8),label='no show',color='gray')\n",
    "plt.legend()\n",
    "plt.xlabel('Neighbourhood',size='14')\n",
    "plt.ylabel('counts',size='14')\n",
    "plt.title('Neighbourhood and showing up')"
   ]
  },
  {
   "cell_type": "code",
   "execution_count": 117,
   "metadata": {},
   "outputs": [
    {
     "data": {
      "text/plain": [
       "0    JARDIM CAMBURI\n",
       "dtype: object"
      ]
     },
     "execution_count": 117,
     "metadata": {},
     "output_type": "execute_result"
    }
   ],
   "source": [
    "df.Neighbourhood[y_show].mode()"
   ]
  },
  {
   "cell_type": "markdown",
   "metadata": {},
   "source": [
    "#####  Neighbourhood :\n",
    "we can see that the greates difference is between number of patients who <br>\n",
    "do not showed up and who shwed up is from JARDIM CAMBURI .<br>\n",
    "**seems too to this correlation is the most correlation of all factors**"
   ]
  },
  {
   "cell_type": "markdown",
   "metadata": {},
   "source": [
    "<a id='Q7'></a>\n",
    "### Q5 : How is correlation between Age and showing up?"
   ]
  },
  {
   "cell_type": "code",
   "execution_count": 118,
   "metadata": {},
   "outputs": [
    {
     "data": {
      "text/plain": [
       "Text(0.5,1,'Age and showing up')"
      ]
     },
     "execution_count": 118,
     "metadata": {},
     "output_type": "execute_result"
    },
    {
     "data": {
      "image/png": "[encoded data removed]",
      "text/plain": [
       "<matplotlib.figure.Figure at 0x7f2315f95978>"
      ]
     },
     "metadata": {
      "needs_background": "light"
     },
     "output_type": "display_data"
    }
   ],
   "source": [
    "age_yes = df.Age[y_show].value_counts()\n",
    "age_no = df.Age[not_show].value_counts()\n",
    "age_yes.plot(kind='line',label='show',color='blue',figsize=(7,5))\n",
    "age_no.plot(kind='line',label='no show',color='yellow',figsize=(7,5))\n",
    "plt.legend();\n",
    "plt.xlabel('Age',size='14')\n",
    "plt.ylabel('counts',size='14')\n",
    "plt.title('Age and showing up')"
   ]
  },
  {
   "cell_type": "code",
   "execution_count": 119,
   "metadata": {},
   "outputs": [
    {
     "data": {
      "text/plain": [
       "count     104.000000\n",
       "mean      715.951923\n",
       "std       393.136242\n",
       "min         1.000000\n",
       "25%       419.000000\n",
       "50%       877.000000\n",
       "75%       990.250000\n",
       "max      1821.000000\n",
       "Name: Age, dtype: float64"
      ]
     },
     "execution_count": 119,
     "metadata": {},
     "output_type": "execute_result"
    }
   ],
   "source": [
    "age_yes.describe()"
   ]
  },
  {
   "cell_type": "code",
   "execution_count": 120,
   "metadata": {},
   "outputs": [
    {
     "data": {
      "text/plain": [
       "count    100.000000\n",
       "mean     206.930000\n",
       "std      118.892639\n",
       "min        1.000000\n",
       "25%       88.500000\n",
       "50%      253.500000\n",
       "75%      297.000000\n",
       "max      526.000000\n",
       "Name: Age, dtype: float64"
      ]
     },
     "execution_count": 120,
     "metadata": {},
     "output_type": "execute_result"
    }
   ],
   "source": [
    "age_no.describe()"
   ]
  },
  {
   "cell_type": "markdown",
   "metadata": {},
   "source": [
    "**the correlation of age with showing up is not orgnised**\n",
    "**the age consist of 3 groups**<br>\n",
    "**group 1** **from age of 57 to up** : this are skwed to right.<br> the correlation between age and showing up is <br>continuos and negative while it decrease when age increase.<br>\n",
    "**group 2** **from age of 29 Approximately to 56** : this age rate<br> does not have a significant effect on showing up.<br>\n",
    "**group 3** **from age of start to 28** : show only are skwed to right<br> while no show are Approximately fixed ,this means that ratio of no show becomming bigger with age incease."
   ]
  },
  {
   "cell_type": "markdown",
   "metadata": {},
   "source": [
    "<a id='conclusions'></a>\n",
    "## Conclusions"
   ]
  },
  {
   "cell_type": "markdown",
   "metadata": {},
   "source": [
    "##### Answers :\n",
    "<ul>\n",
    "     <li> The answer of Q1 : How is correlation between showing up at the<br> appointment and Gender?  <br>We find that the ratios are very close, and the difference between<br> them is less than one percent Gender seems to does not havebr> a Significant impact on showing up .\n",
    "     <li> The answer of Q2 : What are factors that are most impact on showing up?<br>\n",
    "          using pearson correlation rates , seems to SMS_received is the most negative<br> correlation, that means patients who showing up are less when they recieves sms to remind them.\n",
    "     <li> The answer of Q3 : which day is common to be not showing up ?<br>\n",
    "         using mode , the common day to be not showing up from the patient is Tuesday<br>\n",
    "         although saturday seems to be it ,but it is holiday, Tuesday is the day when <br>\n",
    "         ratio of appointments that are not showing up become more.\n",
    "     <li> The answer of Q4 : Which city have most showing up of patients appointments?<br>\n",
    "         <em>JARDIM CAMBURI<em/> is the city that contain the most ratio of showing up.<br>Neighbourhood\n",
    "seems too to this correlation is the most correlation of all factors correlation with showing up.\n",
    "     <li> The answer of Q5 : How is correlation between Age and showing up?<br>\n",
    "        <ol>Age consists of 3 groups:\n",
    "             <li>(from age of 57 to up) : the correlation between age and showing up is <br>continuos and negative while it decrease when age increase.<br>\n",
    "             <li>(from age of 29 Approximately to 56) :this age rate<br> does not have a significant effect on showing up.<br>\n",
    "             <li>(from age of start to 28) : this means that ratio of no show becomming bigger with age incease.\n",
    "         <ol/>\n",
    "         \n",
    "\n",
    "<ul/> \n",
    "         \n"
   ]
  },
  {
   "cell_type": "markdown",
   "metadata": {},
   "source": [
    "#### Limitations :"
   ]
  },
  {
   "cell_type": "markdown",
   "metadata": {},
   "source": [
    "##### pearson correlation to measure the strength of bonding between showing up and factors\n",
    "<ul>\n",
    "    <li>for Scholarship = -0.021098168732383377\n",
    "    <li>for Hypertension = 0.05030994049196688\n",
    "    <li>for Diabetes = 0.023011908649390077\n",
    "    <li>for Alcoholism =  -0.0025404793295180396\n",
    "    <li>for Handicap = 0.014516848627718189\n",
    "    <li>for SMS_received = -0.11955136511973068\n",
    "    <li>for Gender M = 0.006\n",
    "<ul/>"
   ]
  },
  {
   "cell_type": "markdown",
   "metadata": {},
   "source": [
    "##### the ratio of no show to show with factor met\n",
    "<ul>\n",
    "    <li>for Scholarship = 32%\n",
    "    <li>for Hypertension = 21.6%\n",
    "    <li>for Diabetes = 22.7%\n",
    "    <li>for Alcoholism = 28.76%\n",
    "    <li>for Handicap = 21.58%\n",
    "    <li>for SMS_received = 39.96%\n",
    "<ul/>"
   ]
  },
  {
   "cell_type": "markdown",
   "metadata": {},
   "source": [
    "##### the ratio of no show to show with not factor met\n",
    "<ul>\n",
    "    <li>for Scholarship = 27.3%\n",
    "    <li>for Hypertension = 29.59%\n",
    "    <li>for Diabetes = 28.2%\n",
    "    <li>for Alcoholism = 27.7%\n",
    "    <li>for Handicap = 27.9%\n",
    "    <li>for SMS_received = 22.2%\n",
    "<ul/>"
   ]
  },
  {
   "cell_type": "markdown",
   "metadata": {},
   "source": [
    "##### difference between the ratio of no show to show with factor met<br> and the ratio of no show to show with not factor met\n",
    "<ul>\n",
    "    <li>for Scholarship = 4.75%\n",
    "    <li>for Hypertension = -7.96%\n",
    "    <li>for Diabetes = -5.5%\n",
    "    <li>for Alcoholism = 0.99%\n",
    "    <li>for Handicap = -6.35%\n",
    "    <li>for SMS_received = 17.75%\n",
    "<ul/>\n",
    "negative ratio is indice to the more of showing up<br>\n",
    "possitive ratio is indice to the more of not showing up<br>\n",
    "\n",
    "        "
   ]
  },
  {
   "cell_type": "markdown",
   "metadata": {},
   "source": [
    "##### Answers and Limitations summery (Results) :\n",
    "<ul>\n",
    "    <li>Neighbourhood is The most effective factor on attendance\n",
    "    <li>the rate of patients who have Alcoholism,heath care is very small.\n",
    "    <li> Gender seems to does not has a Significant impact on showing up .\n",
    "    <li> Neighbourhood seems to have continuoun effect on<br> showing up of the appointments.\n",
    "    <li> away from Neighbourhood the factor that has the most negative<br> impact on attendance at the appointment is sms received, followed by Scholarship.\n",
    "    <li>The most positive effective factor on attendance after Neighbourhood is <br>Hypertension . followed by Diabetes then Handicap.\n",
    "    <li> Age : (a) before 29 while age increase , no showing icreases .<br>\n",
    "        (b) from 29 to before 57 : the effect of age become weak.<br>\n",
    "        (c) above 57 that is maximum of showing and count of appointments <br> the ratio of no showing up of appointments to showing up increases but less than group (a).\n",
    "<ul/>"
   ]
  },
  {
   "cell_type": "code",
   "execution_count": 81,
   "metadata": {},
   "outputs": [
    {
     "data": {
      "text/plain": [
       "0"
      ]
     },
     "execution_count": 81,
     "metadata": {},
     "output_type": "execute_result"
    }
   ],
   "source": [
    "from subprocess import call\n",
    "call(['python', '-m', 'nbconvert', 'Investigate_a_Dataset.ipynb'])"
   ]
  }
 ],
 "metadata": {
  "kernelspec": {
   "display_name": "Python 3",
   "language": "python",
   "name": "python3"
  },
  "language_info": {
   "codemirror_mode": {
    "name": "ipython",
    "version": 3
   },
   "file_extension": ".py",
   "mimetype": "text/x-python",
   "name": "python",
   "nbconvert_exporter": "python",
   "pygments_lexer": "ipython3",
   "version": "3.6.3"
  },
  "vscode": {
   "interpreter": {
    "hash": "631af202ec7c40e141c49d63cac6c8cb664469fed6e4d5ddc6436b49edc60500"
   }
  }
 },
 "nbformat": 4,
 "nbformat_minor": 2
}
